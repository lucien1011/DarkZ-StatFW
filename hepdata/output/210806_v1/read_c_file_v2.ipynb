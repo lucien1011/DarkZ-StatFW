{
 "cells": [
  {
   "cell_type": "markdown",
   "metadata": {},
   "source": [
    "# Notebook for reading TGraphs from '.C' files\n",
    "\n",
    "With this notebook you can read TGraphs from '.C' files. As explained in the \"Getting started\" notebook, a `Submission` needs to exist or be created."
   ]
  },
  {
   "cell_type": "code",
   "execution_count": 1,
   "metadata": {},
   "outputs": [
    {
     "name": "stdout",
     "output_type": "stream",
     "text": [
      "Welcome to JupyROOT 6.22/06\n"
     ]
    }
   ],
   "source": [
    "from hepdata_lib import Submission\n",
    "submission = Submission()"
   ]
  },
  {
   "cell_type": "code",
   "execution_count": 8,
   "metadata": {},
   "outputs": [],
   "source": [
    "lumi = 137.\n",
    "input_path = 'example_inputs/{name}.C'\n",
    "out_name = 'hig19007_hepdata'\n",
    "config = [\n",
    "    dict(\n",
    "        y_var='kappa',\n",
    "        y_unit='',\n",
    "    ),\n",
    "    dict(\n",
    "        y_var='cZh',\n",
    "        y_unit='',\n",
    "    ),\n",
    "    dict(\n",
    "        y_var='cah',\n",
    "        y_unit='',\n",
    "    ),\n",
    "    dict(\n",
    "        y_var='BrHZX_BrXll',\n",
    "        y_unit='',\n",
    "    ),\n",
    "    dict(\n",
    "        y_var='BrHZX_BrXmumu',\n",
    "        y_unit='',\n",
    "    ),\n",
    "    dict(\n",
    "        y_var='BrHZX_BrXee',\n",
    "        y_unit='',\n",
    "    ),\n",
    "    dict(\n",
    "        y_var='BrHXX_Br2Xll',\n",
    "        y_unit='',\n",
    "    ),\n",
    "    dict(\n",
    "        y_var='BrHXX_Br2Xmumu',\n",
    "        y_unit='',\n",
    "    ),\n",
    "    dict(\n",
    "        y_var='BrHXX_Br2Xee',\n",
    "        y_unit='',\n",
    "    ),\n",
    "]\n",
    "for c in config:\n",
    "    c['x_var'] = 'mass'\n",
    "    c['x_unit'] = 'GeV'"
   ]
  },
  {
   "cell_type": "code",
   "execution_count": 9,
   "metadata": {},
   "outputs": [
    {
     "name": "stdout",
     "output_type": "stream",
     "text": [
      "rm: cannot remove 'hig19007_hepdata/*.yaml': No such file or directory\r\n"
     ]
    }
   ],
   "source": [
    "! rm hig19007_hepdata/*.yaml"
   ]
  },
  {
   "cell_type": "code",
   "execution_count": 10,
   "metadata": {},
   "outputs": [
    {
     "name": "stdout",
     "output_type": "stream",
     "text": [
      "{'y_var': 'kappa', 'y_unit': '', 'x_var': 'mass', 'x_unit': 'GeV'}\n",
      "{'y_var': 'cZh', 'y_unit': '', 'x_var': 'mass', 'x_unit': 'GeV'}\n",
      "{'y_var': 'cah', 'y_unit': '', 'x_var': 'mass', 'x_unit': 'GeV'}\n",
      "{'y_var': 'BrHZX_BrXll', 'y_unit': '', 'x_var': 'mass', 'x_unit': 'GeV'}\n",
      "{'y_var': 'BrHZX_BrXmumu', 'y_unit': '', 'x_var': 'mass', 'x_unit': 'GeV'}\n",
      "{'y_var': 'BrHZX_BrXee', 'y_unit': '', 'x_var': 'mass', 'x_unit': 'GeV'}\n",
      "{'y_var': 'BrHXX_Br2Xll', 'y_unit': '', 'x_var': 'mass', 'x_unit': 'GeV'}\n",
      "{'y_var': 'BrHXX_Br2Xmumu', 'y_unit': '', 'x_var': 'mass', 'x_unit': 'GeV'}\n",
      "{'y_var': 'BrHXX_Br2Xee', 'y_unit': '', 'x_var': 'mass', 'x_unit': 'GeV'}\n"
     ]
    }
   ],
   "source": [
    "from hepdata_lib import Table\n",
    "from hepdata_lib.c_file_reader import CFileReader\n",
    "from hepdata_lib import Variable, Uncertainty\n",
    "\n",
    "for c in config:\n",
    "    print(c)\n",
    "    table = Table(c['y_var'])\n",
    "    table.description = 'Exclusion limit for '+c['y_var']\n",
    "    \n",
    "    c_file = input_path.format(name=c['y_var'])\n",
    "    reader = CFileReader(c_file)\n",
    "    graphs = reader.get_graphs()\n",
    "\n",
    "    d = Variable(c['x_var'], is_independent=True, is_binned=False, units=c['x_unit'])\n",
    "    d.values = graphs[\"Graph3\"]['x']\n",
    "\n",
    "    obs = Variable(c['y_var'], is_independent=False, is_binned=False, units=c['y_unit'])\n",
    "    obs.values = graphs[\"Graph2\"]['y']\n",
    "    obs.add_qualifier(\"Limit\", \"Observed\")\n",
    "    obs.add_qualifier(\"SQRT(S)\", 13, \"TeV\")\n",
    "    obs.add_qualifier(\"LUMINOSITY\", lumi, \"fb$^{-1}$\")\n",
    "\n",
    "    exp = Variable(c['y_var'], is_independent=False, is_binned=False, units=c['y_unit'])\n",
    "    exp.values = graphs[\"Graph3\"]['y']\n",
    "    exp.add_qualifier(\"Limit\", \"Expected\")\n",
    "    exp.add_qualifier(\"SQRT(S)\", 13, \"TeV\")\n",
    "    exp.add_qualifier(\"LUMINOSITY\", lumi, \"fb$^{-1}$\")\n",
    "    \n",
    "    table.add_variable(d)\n",
    "    table.add_variable(obs)\n",
    "    table.add_variable(exp)\n",
    "    submission.add_table(table)\n",
    "submission.create_files(out_name)"
   ]
  },
  {
   "cell_type": "code",
   "execution_count": 11,
   "metadata": {},
   "outputs": [
    {
     "name": "stdout",
     "output_type": "stream",
     "text": [
      "brhxx_br2xee.yaml    brhzx_brxee.yaml\t cah.yaml    submission.yaml\r\n",
      "brhxx_br2xll.yaml    brhzx_brxll.yaml\t czh.yaml\r\n",
      "brhxx_br2xmumu.yaml  brhzx_brxmumu.yaml  kappa.yaml\r\n"
     ]
    }
   ],
   "source": [
    "!ls hig19007_hepdata"
   ]
  },
  {
   "cell_type": "code",
   "execution_count": 6,
   "metadata": {},
   "outputs": [
    {
     "name": "stdout",
     "output_type": "stream",
     "text": [
      "---\r\n",
      "additional_resources:\r\n",
      "- description: Created with hepdata_lib 0.7.0\r\n",
      "  location: https://zenodo.org/record/4946277\r\n",
      "comment: ''\r\n",
      "data_license:\r\n",
      "  description: The content can be shared and adapted but you must             give\r\n",
      "    appropriate credit and cannot restrict access to others.\r\n",
      "  name: cc-by-4.0\r\n",
      "  url: https://creativecommons.org/licenses/by/4.0/\r\n",
      "---\r\n",
      "data_file: kappa.yaml\r\n",
      "description: Exclusion limit for kappa\r\n",
      "keywords: []\r\n",
      "location: Example location\r\n",
      "name: kappa\r\n",
      "---\r\n",
      "data_file: czh.yaml\r\n",
      "description: Exclusion limit for cZh\r\n",
      "keywords: []\r\n",
      "location: Example location\r\n",
      "name: cZh\r\n"
     ]
    }
   ],
   "source": [
    "!head -n 100 hig19007_hepdata/submission.yaml"
   ]
  },
  {
   "cell_type": "code",
   "execution_count": 12,
   "metadata": {},
   "outputs": [
    {
     "name": "stdout",
     "output_type": "stream",
     "text": [
      "hig19007_hepdata/\r\n",
      "hig19007_hepdata/brhzx_brxee.yaml\r\n",
      "hig19007_hepdata/cah.yaml\r\n",
      "hig19007_hepdata/brhxx_br2xmumu.yaml\r\n",
      "hig19007_hepdata/brhxx_br2xll.yaml\r\n",
      "hig19007_hepdata/brhzx_brxmumu.yaml\r\n",
      "hig19007_hepdata/submission.yaml\r\n",
      "hig19007_hepdata/kappa.yaml\r\n",
      "hig19007_hepdata/czh.yaml\r\n",
      "hig19007_hepdata/brhzx_brxll.yaml\r\n",
      "hig19007_hepdata/brhxx_br2xee.yaml\r\n"
     ]
    }
   ],
   "source": [
    "!tar chvfz hig19007_hepdata.tar.gz hig19007_hepdata/"
   ]
  },
  {
   "cell_type": "code",
   "execution_count": null,
   "metadata": {},
   "outputs": [],
   "source": []
  }
 ],
 "metadata": {
  "kernelspec": {
   "display_name": "Python 3",
   "language": "python",
   "name": "python3"
  },
  "language_info": {
   "codemirror_mode": {
    "name": "ipython",
    "version": 3
   },
   "file_extension": ".py",
   "mimetype": "text/x-python",
   "name": "python",
   "nbconvert_exporter": "python",
   "pygments_lexer": "ipython3",
   "version": "3.9.0"
  }
 },
 "nbformat": 4,
 "nbformat_minor": 2
}
